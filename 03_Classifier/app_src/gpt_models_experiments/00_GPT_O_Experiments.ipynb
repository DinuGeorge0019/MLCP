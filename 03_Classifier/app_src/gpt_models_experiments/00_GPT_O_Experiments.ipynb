{
 "cells": [
  {
   "cell_type": "markdown",
   "metadata": {},
   "source": [
    "Define the seed for reproductible results"
   ]
  },
  {
   "cell_type": "code",
   "execution_count": 1,
   "metadata": {},
   "outputs": [],
   "source": [
    "_SEED = 42"
   ]
  },
  {
   "cell_type": "code",
   "execution_count": 2,
   "metadata": {},
   "outputs": [],
   "source": [
    "TOP_5_OUR_DATASET_TAGS = \"['data structures', 'greedy', 'math', 'implementation', 'dp']\"\n",
    "TOP_10_OUR_DATASET_TAGS = \"['greedy', 'dp', 'graphs', 'brute force', 'math', 'constructive algorithms', 'sortings', 'implementation', 'binary search', 'data structures']\"\n",
    "TOP_20_OUR_DATASET_TAGS = \"['implementation', 'binary search', 'math', 'number theory', 'greedy', 'graphs', 'data structures', 'geometry', 'sortings', 'dp', 'brute force', 'combinatorics', 'dfs and similar', 'constructive algorithms', 'trees', 'strings', 'two pointers', 'dsu', 'bitmasks', 'divide and conquer']\"\n",
    "\n",
    "TOP_5_OUTSIDE_DATASET_TAGS = \"['data structures', 'implementation', 'dp', 'math', 'greedy']\"\n",
    "TOP_10_OUTSIDE_DATASET_TAGS = \"['greedy', 'math', 'constructive algorithms', 'implementation', 'brute force', 'data structures', 'dp', 'geometry', 'strings', 'dfs and similar']\"\n",
    "TOP_20_OUTSIDE_DATASET_TAGS = \"['implementation', 'trees', 'math', 'greedy', 'binary search', 'geometry', 'two pointers', 'data structures', 'sortings', 'combinatorics', 'dp', 'bitmasks', 'brute force', 'number theory', 'dsu', 'divide and conquer', 'strings', 'graphs', 'dfs and similar', 'shortest paths']\"\n"
   ]
  },
  {
   "cell_type": "markdown",
   "metadata": {},
   "source": [
    "Read the dataset"
   ]
  },
  {
   "cell_type": "code",
   "execution_count": 3,
   "metadata": {},
   "outputs": [],
   "source": [
    "############################################\n",
    "# IMPORTANT: \n",
    "# 1. Change the dataset path to the testing dataset you want to use.\n",
    "# 2. If the dataset is changed, always update the TOP_TAGS to the corresponding TOP_TAGS of the dataset.\n",
    "# 3. If you want to use the dataset corresponding to Kim et al., use the TOP_TAGS of the outside dataset.\n",
    "############################################\n",
    "\n",
    "import pandas as pd\n",
    "\n",
    "# testing_df = pd.read_csv('../../../01_TASK_DATASETS/03_Task_Datasets/02_DATASETS_WO_TAG_ENCODING/OUR_DATASET/top_5_testing_dataset.csv')\n",
    "testing_df = pd.read_csv('../../../01_TASK_DATASETS/03_Task_Datasets/02_DATASETS_WO_TAG_ENCODING/PSG_PREDICTING_ALGO/AMT5_test.csv')\n",
    "\n",
    "testing_df.head(10)\n",
    "\n",
    "TOP_TAGS = TOP_5_OUTSIDE_DATASET_TAGS"
   ]
  },
  {
   "cell_type": "markdown",
   "metadata": {},
   "source": [
    "Define api request. Update the 'model' to desired gpt api"
   ]
  },
  {
   "cell_type": "code",
   "execution_count": null,
   "metadata": {},
   "outputs": [],
   "source": [
    "from openai import OpenAI\n",
    "\n",
    "API_KEY = \"API_KEY\"\n",
    "\n",
    "def calculate_relevance(problem_statement, problem_tags, seed=None):\n",
    "\n",
    "    request_prompt = f\"\"\"Assign the most relevant labels for PROBLEM_STATEMENT from the given LABELS set.     \n",
    "    Provide the answer in valid JSON format as follows: \"labels\": \"label1, label2, label3, ...\"\n",
    "    PROBLEM_STATEMENT: \"{problem_statement}\"\n",
    "    LABELS: \"{problem_tags}\"\n",
    "    \"\"\"\n",
    "\n",
    "    client = OpenAI(api_key=API_KEY)  # Consider using environment variables for security\n",
    "    \n",
    "    response = client.chat.completions.create(\n",
    "      # model=\"gpt-4o\",\n",
    "      # model=\"gpt-4o-mini\",\n",
    "      # model=\"o1-mini\",\n",
    "      model=\"o3-mini\",\n",
    "      messages=[\n",
    "        {\"role\": \"user\", \"content\": request_prompt}\n",
    "      ],\n",
    "      seed=seed,\n",
    "      n=1,\n",
    "    )\n",
    "\n",
    "    return response.choices[0].message.content"
   ]
  },
  {
   "cell_type": "markdown",
   "metadata": {},
   "source": [
    "Call gpt api for the testing dataset"
   ]
  },
  {
   "cell_type": "code",
   "execution_count": null,
   "metadata": {},
   "outputs": [],
   "source": [
    "import pandas as pd\n",
    "\n",
    "LOWER_BOUND = 0\n",
    "UPPER_BOUND = 1500\n",
    "\n",
    "# Initialize results_df as a DataFrame\n",
    "results_df = pd.DataFrame()\n",
    "\n",
    "for index, row in testing_df.iloc[LOWER_BOUND:UPPER_BOUND].iterrows():\n",
    "    \n",
    "    problem_statement = row['problem_statement']\n",
    "    problem_tags = TOP_TAGS\n",
    "    \n",
    "    print(\"Row index: \", index)\n",
    "    \n",
    "    # print(problem_tags)\n",
    "        \n",
    "    message_content = calculate_relevance(problem_statement, problem_tags, seed=_SEED)\n",
    "    \n",
    "    # Convert the message content to a DataFrame and append it to results_df\n",
    "    message_df = pd.DataFrame([message_content])\n",
    "    results_df = pd.concat([results_df, message_df], ignore_index=True)\n",
    "    \n",
    "    if index % 50 == 0 and index != 0:\n",
    "        results_df.to_csv(f'o3_mini_results_checkpoint_{index}.csv', index=False)\n",
    "\n",
    "# Save the final results\n",
    "results_df.to_csv('o3_mini_results.csv', index=False)"
   ]
  },
  {
   "cell_type": "code",
   "execution_count": 4,
   "metadata": {},
   "outputs": [],
   "source": [
    "import ast\n",
    "\n",
    "def create_binary_vector(tag_list, unique_tags):\n",
    "    unique_tags = ast.literal_eval(unique_tags) if isinstance(unique_tags, str) else unique_tags  # Convert string representation of list to actual list\n",
    "    \n",
    "    binary_vector = [0]*len(unique_tags)\n",
    "            \n",
    "    if 'nan' != str(tag_list):\n",
    "        tag_list = ast.literal_eval(tag_list) if isinstance(tag_list, str) else tag_list  # Convert string representation of list to actual list\n",
    "        for tag in tag_list:\n",
    "            if tag in unique_tags:\n",
    "                binary_vector[unique_tags.index(tag)] = 1\n",
    "    \n",
    "    return binary_vector"
   ]
  },
  {
   "cell_type": "code",
   "execution_count": null,
   "metadata": {},
   "outputs": [],
   "source": [
    "import pandas as pd\n",
    "import re\n",
    "from sklearn.metrics import f1_score, roc_auc_score\n",
    "\n",
    "results_df = pd.read_csv('o3_mini_results.csv')\n",
    "\n",
    "# Function to transform the JSON string into a list of strings\n",
    "def transform_labels(json_string):\n",
    "    match = re.findall(r'\"labels\":\\s*\"([^\"]+)\"', json_string)\n",
    "    if match:\n",
    "        return match[0].split(', ')\n",
    "    else:\n",
    "        return []\n",
    "\n",
    "results_df['0'] = results_df['0'].apply(transform_labels)\n",
    "\n",
    "merged_df = pd.DataFrame({\n",
    "    'truths': testing_df['problem_tags'],\n",
    "    'predictions': results_df['0']\n",
    "})\n",
    "\n",
    "merged_df['truths'] = merged_df['truths'].apply(lambda x: create_binary_vector(x, TOP_TAGS))\n",
    "merged_df['predictions'] = merged_df['predictions'].apply(lambda x: create_binary_vector(x, TOP_TAGS))\n",
    "\n",
    "# Calculate F1 macro score\n",
    "f1_macro = f1_score(merged_df['truths'].tolist(), merged_df['predictions'].tolist(), average='macro')\n",
    "\n",
    "# Calculate AUROC\n",
    "auroc = roc_auc_score(merged_df['truths'].tolist(), merged_df['predictions'].tolist(), average='macro')\n",
    "\n",
    "print(f\"F1 Macro Score: {f1_macro}\")\n",
    "print(f\"AUROC: {auroc}\")"
   ]
  }
 ],
 "metadata": {
  "kernelspec": {
   "display_name": "gpt_venv",
   "language": "python",
   "name": "python3"
  },
  "language_info": {
   "codemirror_mode": {
    "name": "ipython",
    "version": 3
   },
   "file_extension": ".py",
   "mimetype": "text/x-python",
   "name": "python",
   "nbconvert_exporter": "python",
   "pygments_lexer": "ipython3",
   "version": "3.10.0"
  }
 },
 "nbformat": 4,
 "nbformat_minor": 2
}
